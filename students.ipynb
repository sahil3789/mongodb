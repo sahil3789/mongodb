{
 "cells": [
  {
   "cell_type": "markdown",
   "id": "5827f61f",
   "metadata": {
    "colab_type": "text",
    "id": "view-in-github"
   },
   "source": [
    "<a href=\"https://colab.research.google.com/github/sahilsudo/guvi-ds-t2-mongo/blob/main/students.ipynb\" target=\"_parent\"><img src=\"https://colab.research.google.com/assets/colab-badge.svg\" alt=\"Open In Colab\"/></a>"
   ]
  },
  {
   "cell_type": "code",
   "execution_count": null,
   "id": "d7556162",
   "metadata": {
    "id": "d7556162"
   },
   "outputs": [],
   "source": [
    "#imports \n",
    "import pymongo\n",
    "import pprint\n",
    "import json\n",
    "from pymongo import MongoClient"
   ]
  },
  {
   "cell_type": "code",
   "execution_count": null,
   "id": "7a1fbdde",
   "metadata": {
    "id": "7a1fbdde"
   },
   "outputs": [],
   "source": [
    "#create a MongoClient instance\n",
    "client = MongoClient(\"\") "
   ]
  },
  {
   "cell_type": "code",
   "execution_count": null,
   "id": "c68303ed",
   "metadata": {
    "id": "c68303ed"
   },
   "outputs": [],
   "source": [
    "#create/connect to a database\n",
    "student = client.student"
   ]
  },
  {
   "cell_type": "code",
   "execution_count": null,
   "id": "0b44a86f",
   "metadata": {
    "id": "0b44a86f"
   },
   "outputs": [],
   "source": [
    "#create/connect to a collection\n",
    "marks=student.marks"
   ]
  },
  {
   "cell_type": "code",
   "execution_count": null,
   "id": "77160386",
   "metadata": {
    "id": "77160386"
   },
   "outputs": [],
   "source": [
    "#read the .json file\n",
    "text=\"\"\n",
    "with open('students.json') as f:\n",
    "    text=f.readlines()\n",
    "list=[x for x in text]"
   ]
  },
  {
   "cell_type": "code",
   "execution_count": null,
   "id": "d29fa978",
   "metadata": {
    "id": "d29fa978"
   },
   "outputs": [],
   "source": [
    "#insert documents from the file into collection\n",
    "for i in list:\n",
    "    d=json.loads(i)\n",
    "    marks.insert_one(d)"
   ]
  },
  {
   "cell_type": "code",
   "execution_count": null,
   "id": "bcf40454",
   "metadata": {
    "id": "bcf40454"
   },
   "outputs": [],
   "source": [
    "#get and print the collection\n",
    "x=marks.find({})\n",
    "for doc in x:\n",
    "    pprint.pprint(doc)"
   ]
  },
  {
   "cell_type": "code",
   "execution_count": null,
   "id": "8aff1721",
   "metadata": {
    "id": "8aff1721"
   },
   "outputs": [],
   "source": [
    "#Find the student name who scored maximum scores in all (exam, quiz and homework)?\n",
    "\n",
    "x=marks.aggregate([\n",
    " {\n",
    "    \"$project\": {\n",
    "          \"_id\":\"$_id\",\n",
    "          \"name\":\"$name\",\n",
    "          \"score\":\"$scores\",\n",
    "          \"total_score\":{\"$sum\":[{\"$arrayElemAt\": [\"$scores.score\", 0]},{\"$arrayElemAt\": [\"$scores.score\", 1]},{\"$arrayElemAt\": [\"$scores.score\", 2]}]}\n",
    "    }\n",
    "\n",
    "   },\n",
    "    \n",
    "  {\n",
    "      \"$sort\":{\"total_score\":-1}\n",
    "  },\n",
    "    \n",
    "   {\"$limit\":1} \n",
    "])\n",
    "\n",
    "#print the result\n",
    "for doc in x:\n",
    "    pprint.pprint(doc)"
   ]
  },
  {
   "cell_type": "code",
   "execution_count": null,
   "id": "dcac2405",
   "metadata": {
    "id": "dcac2405"
   },
   "outputs": [],
   "source": [
    "#Find students who scored below average in the exam and pass mark is 40%?\n",
    "\n",
    "x=marks.aggregate([{\"$group\": {\"_id\":None, \"sum_val\":{\"$avg\":{\"$arrayElemAt\": [\"$scores.score\", 0]}}}}])\n",
    "avg=0\n",
    "for doc in x:\n",
    "    avg=doc[\"sum_val\"]\n",
    "\n",
    "y=marks.aggregate([\n",
    "    {\n",
    "        \"$match\":{\n",
    "            \"$expr\":{\n",
    "                \"$lt\":[{\"$arrayElemAt\": [\"$scores.score\", 0]},avg]\n",
    "            }\n",
    "        }\n",
    "    }\n",
    "])\n",
    "\n",
    "#print the result\n",
    "for doc in y:\n",
    "    pprint.pprint(doc)"
   ]
  },
  {
   "cell_type": "code",
   "execution_count": null,
   "id": "1705644d",
   "metadata": {
    "id": "1705644d"
   },
   "outputs": [],
   "source": [
    "#Find students who scored below pass mark and assigned them as fail, and above pass mark as pass in all \n",
    "#the categories.\n",
    "\n",
    "marks.aggregate( [\n",
    "    {\n",
    "           \"$addFields\": {\n",
    "              \"EPass\":\n",
    "                 {\n",
    "                  \"$cond\":{\"if\": {\"$gt\":[{\"$arrayElemAt\": [\"$scores.score\", 0]},40]}, \"then\": \"Pass\", \"else\": \"Fail\"}\n",
    "                 },\n",
    "              \"QPass\":\n",
    "                 {\n",
    "                  \"$cond\":{\"if\": {\"$gt\":[{\"$arrayElemAt\": [\"$scores.score\", 1]},40]}, \"then\": \"Pass\", \"else\": \"Fail\"}\n",
    "                 },\n",
    "              \"HPass\":\n",
    "                 {\n",
    "                  \"$cond\":{\"if\": {\"$gt\":[{\"$arrayElemAt\": [\"$scores.score\", 2]},40]}, \"then\": \"Pass\", \"else\": \"Fail\"}\n",
    "                 },\n",
    "            \n",
    "           }\n",
    "         },\n",
    "    \n",
    "        {\n",
    "         \"$out\": { \"db\": \"student\", \"coll\": \"marks\" }\n",
    "        }\n",
    "   ] )\n",
    "\n",
    "#print the result\n",
    "for doc in marks.find({}):\n",
    "    pprint.pprint(doc)"
   ]
  },
  {
   "cell_type": "code",
   "execution_count": null,
   "id": "9e95f292",
   "metadata": {
    "id": "9e95f292"
   },
   "outputs": [],
   "source": [
    "#Find the total and average of the exam, quiz and homework and store them in a\n",
    "#separate collection.\n",
    "\n",
    "marks4=student.marks4\n",
    "marks.aggregate(pipeline= [\n",
    "    {\n",
    "           \"$addFields\": {\n",
    "                \"total\":{\n",
    "                    \"$sum\":[{\"$arrayElemAt\": [\"$scores.score\", 0]},{\"$arrayElemAt\": [\"$scores.score\", 1]},{\"$arrayElemAt\": [\"$scores.score\", 2]}]\n",
    "                },\n",
    "                \"avg\":{\n",
    "                    \"$avg\":[{\"$arrayElemAt\": [\"$scores.score\", 0]},{\"$arrayElemAt\": [\"$scores.score\", 1]},{\"$arrayElemAt\": [\"$scores.score\", 2]}]\n",
    "                }\n",
    "           }\n",
    "         },\n",
    "    \n",
    "        {\n",
    "         \"$out\": { \"db\": \"student\", \"coll\": \"marks4\" }\n",
    "        }\n",
    "   ]) \n",
    "\n",
    "#print the result\n",
    "for doc in marks4.find({}):\n",
    "    pprint.pprint(doc)"
   ]
  },
  {
   "cell_type": "code",
   "execution_count": null,
   "id": "9725a480",
   "metadata": {
    "id": "9725a480"
   },
   "outputs": [],
   "source": [
    "#Create a new collection which consists of students who scored below average and\n",
    "#above 40% in all the categories.\n",
    "\n",
    "marks5=student.marks5\n",
    "x=marks.aggregate([{\"$group\": {\"_id\":None, \"sum_val\":{\"$avg\":{\"$arrayElemAt\": [\"$scores.score\", 0]}}}}])\n",
    "y=marks.aggregate([{\"$group\": {\"_id\":None, \"sum_val\":{\"$avg\":{\"$arrayElemAt\": [\"$scores.score\", 1]}}}}])\n",
    "z=marks.aggregate([{\"$group\": {\"_id\":None, \"sum_val\":{\"$avg\":{\"$arrayElemAt\": [\"$scores.score\", 2]}}}}])\n",
    "avg1=0\n",
    "avg2=0\n",
    "abg3=0\n",
    "\n",
    "for doc in x:\n",
    "    avg1=doc[\"sum_val\"]\n",
    "for doc in y:\n",
    "    avg2=doc[\"sum_val\"]\n",
    "for doc in z:\n",
    "    avg3=doc[\"sum_val\"]\n",
    "\n",
    "y=marks.aggregate([\n",
    "    {\n",
    "                \"$match\":{\n",
    "                    \"$expr\":{  \"$and\":\n",
    "                                [{\"$and\":[{\"$gt\":[{\"$arrayElemAt\": [\"$scores.score\", 0]},40]},{\"$lt\":[{\"$arrayElemAt\": [\"$scores.score\", 0]},avg1]}]},\n",
    "                                 {\"$and\":[{\"$gt\":[{\"$arrayElemAt\": [\"$scores.score\", 1]},40]},{\"$lt\":[{\"$arrayElemAt\": [\"$scores.score\", 1]},avg2]}]}, \n",
    "                                 {\"$and\":[{\"$gt\":[{\"$arrayElemAt\": [\"$scores.score\", 2]},40]},{\"$lt\":[{\"$arrayElemAt\": [\"$scores.score\", 2]},avg3]}]},        \n",
    "                                ]\n",
    "                            }\n",
    "                        }\n",
    "    },\n",
    "    {\n",
    "        \"$project\":{\n",
    "            \"_id\":\"$_id\",\n",
    "            \"name\":\"$name\",\n",
    "            \"score\":\"$scores\"\n",
    "        }\n",
    "    },\n",
    "    \n",
    "    {\n",
    "        \"$out\": { \"db\": \"student\", \"coll\": \"marks5\" }\n",
    "    }\n",
    "\n",
    "])\n",
    "\n",
    "#print the result\n",
    "for doc in marks5.find({}):\n",
    "    pprint.pprint(doc)"
   ]
  },
  {
   "cell_type": "code",
   "execution_count": null,
   "id": "678e7c31",
   "metadata": {
    "id": "678e7c31"
   },
   "outputs": [],
   "source": [
    "#Create a new collection which consists of students who scored below the fail mark\n",
    "#in all the categories.\n",
    "\n",
    "marks6=student.marks6\n",
    "x=marks.aggregate([\n",
    "    {\n",
    "                \"$match\":{\n",
    "                    \"$expr\":{  \"$and\":\n",
    "                                [{\"$lt\":[{\"$arrayElemAt\": [\"$scores.score\", 0]},40]},\n",
    "                                 {\"$lt\":[{\"$arrayElemAt\": [\"$scores.score\", 1]},40]}, \n",
    "                                 {\"$lt\":[{\"$arrayElemAt\": [\"$scores.score\", 2]},40]},        \n",
    "                                ]\n",
    "                            }\n",
    "                        }\n",
    "    },\n",
    "    {\n",
    "        \"$project\":{\n",
    "            \"_id\":\"$_id\",\n",
    "            \"name\":\"$name\",\n",
    "            \"score\":\"$scores\"\n",
    "        }\n",
    "    },\n",
    "    \n",
    "    {\n",
    "        \"$out\": { \"db\": \"student\", \"coll\": \"marks6\" }\n",
    "    }\n",
    "\n",
    "])\n",
    "\n",
    "#print the result\n",
    "for doc in marks6.find({}):\n",
    "    pprint.pprint(doc)"
   ]
  },
  {
   "cell_type": "code",
   "execution_count": null,
   "id": "b143892a",
   "metadata": {
    "id": "b143892a"
   },
   "outputs": [],
   "source": [
    "#Create a new collection which consists of students who scored above pass mark in\n",
    "#all the categories.\n",
    "\n",
    "marks7=student.marks7\n",
    "x=marks.aggregate([\n",
    "    {\n",
    "                \"$match\":{\n",
    "                    \"$expr\":{  \"$and\":\n",
    "                                [{\"$gt\":[{\"$arrayElemAt\": [\"$scores.score\", 0]},40]},\n",
    "                                 {\"$gt\":[{\"$arrayElemAt\": [\"$scores.score\", 1]},40]}, \n",
    "                                 {\"$gt\":[{\"$arrayElemAt\": [\"$scores.score\", 2]},40]},        \n",
    "                                ]\n",
    "                            }\n",
    "                        }\n",
    "    },\n",
    "    {\n",
    "        \"$project\":{\n",
    "            \"_id\":\"$_id\",\n",
    "            \"name\":\"$name\",\n",
    "            \"score\":\"$scores\"\n",
    "        }\n",
    "    },\n",
    "    \n",
    "        \n",
    "    {\n",
    "        \"$out\": { \"db\": \"student\", \"coll\": \"marks7\" }\n",
    "    }\n",
    "\n",
    "])\n",
    "\n",
    "#print the result\n",
    "for doc in marks7.find({}):\n",
    "    pprint.pprint(doc)"
   ]
  },
  {
   "cell_type": "code",
   "execution_count": null,
   "id": "c6c9ab6e",
   "metadata": {
    "id": "c6c9ab6e"
   },
   "outputs": [],
   "source": [
    "#drop all collections\n",
    "#marks.drop()\n",
    "#marks4.drop()\n",
    "#marks5.drop()\n",
    "#marks6.drop()\n",
    "#marks7.drop()"
   ]
  },
  {
   "cell_type": "code",
   "execution_count": null,
   "id": "3355a98a",
   "metadata": {
    "id": "3355a98a"
   },
   "outputs": [],
   "source": []
  }
 ],
 "metadata": {
  "colab": {
   "include_colab_link": true,
   "provenance": []
  },
  "kernelspec": {
   "display_name": "Python 3 (ipykernel)",
   "language": "python",
   "name": "python3"
  },
  "language_info": {
   "codemirror_mode": {
    "name": "ipython",
    "version": 3
   },
   "file_extension": ".py",
   "mimetype": "text/x-python",
   "name": "python",
   "nbconvert_exporter": "python",
   "pygments_lexer": "ipython3",
   "version": "3.10.9"
  }
 },
 "nbformat": 4,
 "nbformat_minor": 5
}
