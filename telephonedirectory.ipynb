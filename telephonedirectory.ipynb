{
  "cells": [
    {
      "cell_type": "markdown",
      "metadata": {
        "id": "view-in-github",
        "colab_type": "text"
      },
      "source": [
        "<a href=\"https://colab.research.google.com/github/sahilsudo/guvi-ds-t2-mongo/blob/main/telephonedirectory.ipynb\" target=\"_parent\"><img src=\"https://colab.research.google.com/assets/colab-badge.svg\" alt=\"Open In Colab\"/></a>"
      ]
    },
    {
      "cell_type": "code",
      "execution_count": 24,
      "id": "9d7bab29",
      "metadata": {
        "id": "9d7bab29"
      },
      "outputs": [],
      "source": [
        "#import pymongo and pprint\n",
        "import pprint\n",
        "import pymongo"
      ]
    },
    {
      "cell_type": "code",
      "execution_count": 25,
      "id": "2a4c480d",
      "metadata": {
        "id": "2a4c480d"
      },
      "outputs": [],
      "source": [
        "#import MongoClient\n",
        "from pymongo import MongoClient"
      ]
    },
    {
      "cell_type": "code",
      "execution_count": 26,
      "id": "e11fb768",
      "metadata": {
        "id": "e11fb768"
      },
      "outputs": [],
      "source": [
        "#create a MongoClient instance\n",
        "client = MongoClient(\"\") "
      ]
    },
    {
      "cell_type": "code",
      "execution_count": 27,
      "id": "8c725046",
      "metadata": {
        "id": "8c725046"
      },
      "outputs": [],
      "source": [
        "#create/connect to a database\n",
        "db=client.telephonedir"
      ]
    },
    {
      "cell_type": "code",
      "execution_count": 28,
      "id": "f208913a",
      "metadata": {
        "id": "f208913a"
      },
      "outputs": [],
      "source": [
        "#create/connect to a collection\n",
        "contacts = db.contacts"
      ]
    },
    {
      "cell_type": "code",
      "execution_count": 29,
      "id": "0bf24646",
      "metadata": {
        "id": "0bf24646"
      },
      "outputs": [],
      "source": [
        "#create a list of dictionaries/documents\n",
        "dir=[\n",
        "    {\n",
        "        \"name\":\"tim\",\n",
        "        \"ph_no\":9293559917,\n",
        "        \"address\":\"MG Road\",\n",
        "        \"city\":\"Bangalore\",\n",
        "    },\n",
        "    {\n",
        "        \"name\":\"tom\",\n",
        "        \"ph_no\":7732792083,\n",
        "        \"address\":\"Andheri\",\n",
        "        \"city\":\"Mumbai\",\n",
        "    },\n",
        "    {\n",
        "        \"name\":\"jim\",\n",
        "        \"ph_no\":8949991172,\n",
        "        \"address\":\"Chandni Chowk\",\n",
        "        \"city\":\"Delhi\",\n",
        "    },\n",
        "    {\n",
        "        \"name\":\"joe\",\n",
        "        \"ph_no\":8488273278,\n",
        "        \"address\":\"Jubilee Hills\",\n",
        "        \"city\":\"Hyderabad\",\n",
        "    }\n",
        "]"
      ]
    },
    {
      "cell_type": "code",
      "execution_count": 30,
      "id": "7200b9d5",
      "metadata": {
        "id": "7200b9d5",
        "outputId": "44b2c773-8623-46f6-94da-6c3b4956b7dc",
        "colab": {
          "base_uri": "https://localhost:8080/"
        }
      },
      "outputs": [
        {
          "output_type": "execute_result",
          "data": {
            "text/plain": [
              "<pymongo.results.InsertManyResult at 0x7f1973488970>"
            ]
          },
          "metadata": {},
          "execution_count": 30
        }
      ],
      "source": [
        "#insert documents\n",
        "contacts.insert_many(dir)"
      ]
    },
    {
      "cell_type": "code",
      "execution_count": 31,
      "id": "5839c9f7",
      "metadata": {
        "id": "5839c9f7"
      },
      "outputs": [],
      "source": [
        "#get collection post inserting documents\n",
        "dirs=contacts.find({})"
      ]
    },
    {
      "cell_type": "code",
      "execution_count": 32,
      "id": "305a4476",
      "metadata": {
        "id": "305a4476",
        "outputId": "5c535096-92c9-4cac-bbef-363237d9366d",
        "colab": {
          "base_uri": "https://localhost:8080/"
        }
      },
      "outputs": [
        {
          "output_type": "stream",
          "name": "stdout",
          "text": [
            "{'_id': ObjectId('6396a91e5fdb50eb35bf93cb'),\n",
            " 'address': 'MG Road',\n",
            " 'city': 'Bangalore',\n",
            " 'name': 'tim',\n",
            " 'ph_no': 9293559917}\n",
            "{'_id': ObjectId('6396a91e5fdb50eb35bf93cc'),\n",
            " 'address': 'Andheri',\n",
            " 'city': 'Mumbai',\n",
            " 'name': 'tom',\n",
            " 'ph_no': 7732792083}\n",
            "{'_id': ObjectId('6396a91e5fdb50eb35bf93cd'),\n",
            " 'address': 'Chandni Chowk',\n",
            " 'city': 'Delhi',\n",
            " 'name': 'jim',\n",
            " 'ph_no': 8949991172}\n",
            "{'_id': ObjectId('6396a91e5fdb50eb35bf93ce'),\n",
            " 'address': 'Jubilee Hills',\n",
            " 'city': 'Hyderabad',\n",
            " 'name': 'joe',\n",
            " 'ph_no': 8488273278}\n"
          ]
        }
      ],
      "source": [
        "#print collection after inserting documents\n",
        "for x in dirs:\n",
        "    pprint.pprint(x)"
      ]
    },
    {
      "cell_type": "code",
      "execution_count": 33,
      "id": "6fd3cd9a",
      "metadata": {
        "id": "6fd3cd9a",
        "outputId": "b205a087-bdce-40e2-e502-e16608718f43",
        "colab": {
          "base_uri": "https://localhost:8080/"
        }
      },
      "outputs": [
        {
          "output_type": "execute_result",
          "data": {
            "text/plain": [
              "<pymongo.results.UpdateResult at 0x7f197b51e130>"
            ]
          },
          "metadata": {},
          "execution_count": 33
        }
      ],
      "source": [
        "#update a document\n",
        "contacts.update_one({\"name\":\"jim\"},{\"$set\":{\"name\":\"him\"}},upsert=False)"
      ]
    },
    {
      "cell_type": "code",
      "execution_count": 34,
      "id": "234ef698",
      "metadata": {
        "id": "234ef698"
      },
      "outputs": [],
      "source": [
        "#get collection post update\n",
        "dirs=contacts.find({})"
      ]
    },
    {
      "cell_type": "code",
      "execution_count": 35,
      "id": "b8298abe",
      "metadata": {
        "id": "b8298abe",
        "outputId": "2645b51d-ef10-4125-bafd-34bc3138bc60",
        "colab": {
          "base_uri": "https://localhost:8080/"
        }
      },
      "outputs": [
        {
          "output_type": "stream",
          "name": "stdout",
          "text": [
            "{'_id': ObjectId('6396a91e5fdb50eb35bf93cb'),\n",
            " 'address': 'MG Road',\n",
            " 'city': 'Bangalore',\n",
            " 'name': 'tim',\n",
            " 'ph_no': 9293559917}\n",
            "{'_id': ObjectId('6396a91e5fdb50eb35bf93cc'),\n",
            " 'address': 'Andheri',\n",
            " 'city': 'Mumbai',\n",
            " 'name': 'tom',\n",
            " 'ph_no': 7732792083}\n",
            "{'_id': ObjectId('6396a91e5fdb50eb35bf93cd'),\n",
            " 'address': 'Chandni Chowk',\n",
            " 'city': 'Delhi',\n",
            " 'name': 'him',\n",
            " 'ph_no': 8949991172}\n",
            "{'_id': ObjectId('6396a91e5fdb50eb35bf93ce'),\n",
            " 'address': 'Jubilee Hills',\n",
            " 'city': 'Hyderabad',\n",
            " 'name': 'joe',\n",
            " 'ph_no': 8488273278}\n"
          ]
        }
      ],
      "source": [
        "#print collection after update\n",
        "for x in dirs:\n",
        "    pprint.pprint(x)"
      ]
    },
    {
      "cell_type": "code",
      "execution_count": 36,
      "id": "9159caf7",
      "metadata": {
        "id": "9159caf7",
        "outputId": "1f9d264b-481f-437d-fe7d-bd48b5ed620d",
        "colab": {
          "base_uri": "https://localhost:8080/"
        }
      },
      "outputs": [
        {
          "output_type": "execute_result",
          "data": {
            "text/plain": [
              "<pymongo.results.DeleteResult at 0x7f1976c4be80>"
            ]
          },
          "metadata": {},
          "execution_count": 36
        }
      ],
      "source": [
        "#delete a document\n",
        "contacts.delete_one({\"name\":\"joe\"})"
      ]
    },
    {
      "cell_type": "code",
      "execution_count": 37,
      "id": "8c2d423f",
      "metadata": {
        "id": "8c2d423f"
      },
      "outputs": [],
      "source": [
        "#get collection post deletion\n",
        "dirs=contacts.find({})"
      ]
    },
    {
      "cell_type": "code",
      "execution_count": 38,
      "id": "6debab77",
      "metadata": {
        "id": "6debab77",
        "outputId": "ff47fcf7-c22a-4e87-c4e4-f8c0f7bc91c2",
        "colab": {
          "base_uri": "https://localhost:8080/"
        }
      },
      "outputs": [
        {
          "output_type": "stream",
          "name": "stdout",
          "text": [
            "{'_id': ObjectId('6396a91e5fdb50eb35bf93cb'),\n",
            " 'address': 'MG Road',\n",
            " 'city': 'Bangalore',\n",
            " 'name': 'tim',\n",
            " 'ph_no': 9293559917}\n",
            "{'_id': ObjectId('6396a91e5fdb50eb35bf93cc'),\n",
            " 'address': 'Andheri',\n",
            " 'city': 'Mumbai',\n",
            " 'name': 'tom',\n",
            " 'ph_no': 7732792083}\n",
            "{'_id': ObjectId('6396a91e5fdb50eb35bf93cd'),\n",
            " 'address': 'Chandni Chowk',\n",
            " 'city': 'Delhi',\n",
            " 'name': 'him',\n",
            " 'ph_no': 8949991172}\n"
          ]
        }
      ],
      "source": [
        "#print collection after deletion\n",
        "for x in dirs:\n",
        "    pprint.pprint(x)"
      ]
    },
    {
      "cell_type": "code",
      "execution_count": 23,
      "id": "1af11aa7",
      "metadata": {
        "id": "1af11aa7"
      },
      "outputs": [],
      "source": [
        "#drop the collection \n",
        "#contacts.drop()"
      ]
    },
    {
      "cell_type": "code",
      "execution_count": null,
      "id": "bc4ba6a8",
      "metadata": {
        "id": "bc4ba6a8"
      },
      "outputs": [],
      "source": []
    }
  ],
  "metadata": {
    "kernelspec": {
      "display_name": "Python 3 (ipykernel)",
      "language": "python",
      "name": "python3"
    },
    "language_info": {
      "codemirror_mode": {
        "name": "ipython",
        "version": 3
      },
      "file_extension": ".py",
      "mimetype": "text/x-python",
      "name": "python",
      "nbconvert_exporter": "python",
      "pygments_lexer": "ipython3",
      "version": "3.10.6"
    },
    "colab": {
      "provenance": [],
      "include_colab_link": true
    }
  },
  "nbformat": 4,
  "nbformat_minor": 5
}