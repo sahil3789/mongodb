{
  "cells": [
    {
      "cell_type": "markdown",
      "metadata": {
        "id": "view-in-github",
        "colab_type": "text"
      },
      "source": [
        "<a href=\"https://colab.research.google.com/github/sahilsudo/guvi-ds-t2-mongo/blob/main/telephonedirectory.ipynb\" target=\"_parent\"><img src=\"https://colab.research.google.com/assets/colab-badge.svg\" alt=\"Open In Colab\"/></a>"
      ]
    },
    {
      "cell_type": "code",
      "execution_count": null,
      "id": "9d7bab29",
      "metadata": {
        "id": "9d7bab29"
      },
      "outputs": [],
      "source": [
        "#import pymongo and pprint\n",
        "import pprint\n",
        "import pymongo"
      ]
    },
    {
      "cell_type": "code",
      "execution_count": null,
      "id": "2a4c480d",
      "metadata": {
        "id": "2a4c480d"
      },
      "outputs": [],
      "source": [
        "#import MongoClient\n",
        "from pymongo import MongoClient"
      ]
    },
    {
      "cell_type": "code",
      "execution_count": null,
      "id": "e11fb768",
      "metadata": {
        "id": "e11fb768"
      },
      "outputs": [],
      "source": [
        "#create a MongoClient instance\n",
        "client = MongoClient(\"\") "
      ]
    },
    {
      "cell_type": "code",
      "execution_count": null,
      "id": "8c725046",
      "metadata": {
        "id": "8c725046"
      },
      "outputs": [],
      "source": [
        "#create/connect to a database\n",
        "db=client.telephonedir"
      ]
    },
    {
      "cell_type": "code",
      "execution_count": null,
      "id": "f208913a",
      "metadata": {
        "id": "f208913a"
      },
      "outputs": [],
      "source": [
        "#create/connect to a collection\n",
        "contacts = db.contacts"
      ]
    },
    {
      "cell_type": "code",
      "execution_count": null,
      "id": "0bf24646",
      "metadata": {
        "id": "0bf24646"
      },
      "outputs": [],
      "source": [
        "#create a list of dictionaries/documents\n",
        "dir=[\n",
        "    {\n",
        "        \"name\":\"tim\",\n",
        "        \"ph_no\":9293559917,\n",
        "        \"address\":\"MG Road\",\n",
        "        \"city\":\"Bangalore\",\n",
        "    },\n",
        "    {\n",
        "        \"name\":\"tom\",\n",
        "        \"ph_no\":7732792083,\n",
        "        \"address\":\"Andheri\",\n",
        "        \"city\":\"Mumbai\",\n",
        "    },\n",
        "    {\n",
        "        \"name\":\"jim\",\n",
        "        \"ph_no\":8949991172,\n",
        "        \"address\":\"Chandni Chowk\",\n",
        "        \"city\":\"Delhi\",\n",
        "    },\n",
        "    {\n",
        "        \"name\":\"joe\",\n",
        "        \"ph_no\":8488273278,\n",
        "        \"address\":\"Jubilee Hills\",\n",
        "        \"city\":\"Hyderabad\",\n",
        "    }\n",
        "]"
      ]
    },
    {
      "cell_type": "code",
      "execution_count": null,
      "id": "7200b9d5",
      "metadata": {
        "id": "7200b9d5",
        "outputId": "d5f59afe-4f97-437e-dbfd-f01809049903"
      },
      "outputs": [
        {
          "data": {
            "text/plain": [
              "<pymongo.results.InsertManyResult at 0x7f7cb44c7d00>"
            ]
          },
          "execution_count": 17,
          "metadata": {},
          "output_type": "execute_result"
        }
      ],
      "source": [
        "#insert documents\n",
        "contacts.insert_many(dir)"
      ]
    },
    {
      "cell_type": "code",
      "execution_count": null,
      "id": "5839c9f7",
      "metadata": {
        "id": "5839c9f7"
      },
      "outputs": [],
      "source": [
        "#get collection post inserting documents\n",
        "dirs=contacts.find({})"
      ]
    },
    {
      "cell_type": "code",
      "execution_count": null,
      "id": "305a4476",
      "metadata": {
        "id": "305a4476",
        "outputId": "90992a64-2b80-4d26-9d30-ecbe0f064c99"
      },
      "outputs": [
        {
          "name": "stdout",
          "output_type": "stream",
          "text": [
            "{'_id': ObjectId('6395ddaba2c3743472829aae'),\n",
            " 'address': 'MG Road',\n",
            " 'city': 'Bangalore',\n",
            " 'name': 'tim',\n",
            " 'ph_no': 9293559917}\n",
            "{'_id': ObjectId('6395ddaba2c3743472829aaf'),\n",
            " 'address': 'Andheri',\n",
            " 'city': 'Mumbai',\n",
            " 'name': 'tom',\n",
            " 'ph_no': 7732792083}\n",
            "{'_id': ObjectId('6395ddaba2c3743472829ab0'),\n",
            " 'address': 'Chandni Chowk',\n",
            " 'city': 'Delhi',\n",
            " 'name': 'jim',\n",
            " 'ph_no': 8949991172}\n",
            "{'_id': ObjectId('6395ddaba2c3743472829ab1'),\n",
            " 'address': 'Jubilee Hills',\n",
            " 'city': 'Hyderabad',\n",
            " 'name': 'joe',\n",
            " 'ph_no': 8488273278}\n"
          ]
        }
      ],
      "source": [
        "#print collection after inserting documents\n",
        "for x in dirs:\n",
        "    pprint.pprint(x)"
      ]
    },
    {
      "cell_type": "code",
      "execution_count": null,
      "id": "6fd3cd9a",
      "metadata": {
        "id": "6fd3cd9a",
        "outputId": "354ed0e8-655a-47d9-9dca-468cb1dc8546"
      },
      "outputs": [
        {
          "data": {
            "text/plain": [
              "<pymongo.results.UpdateResult at 0x7f7c9c693e50>"
            ]
          },
          "execution_count": 20,
          "metadata": {},
          "output_type": "execute_result"
        }
      ],
      "source": [
        "#update a document\n",
        "contacts.update_one({\"name\":\"tim\"},{\"$set\":{\"name\":\"kim\"}},upsert=False)"
      ]
    },
    {
      "cell_type": "code",
      "execution_count": null,
      "id": "234ef698",
      "metadata": {
        "id": "234ef698"
      },
      "outputs": [],
      "source": [
        "#get collection post update\n",
        "dirs=contacts.find({})"
      ]
    },
    {
      "cell_type": "code",
      "execution_count": null,
      "id": "b8298abe",
      "metadata": {
        "id": "b8298abe",
        "outputId": "c05c92f1-8c1c-4c04-c0f3-db9554b4e8d6"
      },
      "outputs": [
        {
          "name": "stdout",
          "output_type": "stream",
          "text": [
            "{'_id': ObjectId('6395ddaba2c3743472829aae'),\n",
            " 'address': 'MG Road',\n",
            " 'city': 'Bangalore',\n",
            " 'name': 'kim',\n",
            " 'ph_no': 9293559917}\n",
            "{'_id': ObjectId('6395ddaba2c3743472829aaf'),\n",
            " 'address': 'Andheri',\n",
            " 'city': 'Mumbai',\n",
            " 'name': 'tom',\n",
            " 'ph_no': 7732792083}\n",
            "{'_id': ObjectId('6395ddaba2c3743472829ab0'),\n",
            " 'address': 'Chandni Chowk',\n",
            " 'city': 'Delhi',\n",
            " 'name': 'jim',\n",
            " 'ph_no': 8949991172}\n",
            "{'_id': ObjectId('6395ddaba2c3743472829ab1'),\n",
            " 'address': 'Jubilee Hills',\n",
            " 'city': 'Hyderabad',\n",
            " 'name': 'joe',\n",
            " 'ph_no': 8488273278}\n"
          ]
        }
      ],
      "source": [
        "#print collection after update\n",
        "for x in dirs:\n",
        "    pprint.pprint(x)"
      ]
    },
    {
      "cell_type": "code",
      "execution_count": null,
      "id": "9159caf7",
      "metadata": {
        "id": "9159caf7",
        "outputId": "f4813d79-75c2-4b91-dd42-42cd93f25c4e"
      },
      "outputs": [
        {
          "data": {
            "text/plain": [
              "<pymongo.results.DeleteResult at 0x7f7cb44c7c40>"
            ]
          },
          "execution_count": 23,
          "metadata": {},
          "output_type": "execute_result"
        }
      ],
      "source": [
        "#delete a document\n",
        "contacts.delete_one({\"name\":\"joe\"})"
      ]
    },
    {
      "cell_type": "code",
      "execution_count": null,
      "id": "8c2d423f",
      "metadata": {
        "id": "8c2d423f"
      },
      "outputs": [],
      "source": [
        "#get collection post deletion\n",
        "dirs=contacts.find({})"
      ]
    },
    {
      "cell_type": "code",
      "execution_count": null,
      "id": "6debab77",
      "metadata": {
        "id": "6debab77",
        "outputId": "eace195c-9920-439d-fcf7-326835a6f652"
      },
      "outputs": [
        {
          "name": "stdout",
          "output_type": "stream",
          "text": [
            "{'_id': ObjectId('6395ddaba2c3743472829aae'),\n",
            " 'address': 'MG Road',\n",
            " 'city': 'Bangalore',\n",
            " 'name': 'kim',\n",
            " 'ph_no': 9293559917}\n",
            "{'_id': ObjectId('6395ddaba2c3743472829aaf'),\n",
            " 'address': 'Andheri',\n",
            " 'city': 'Mumbai',\n",
            " 'name': 'tom',\n",
            " 'ph_no': 7732792083}\n",
            "{'_id': ObjectId('6395ddaba2c3743472829ab0'),\n",
            " 'address': 'Chandni Chowk',\n",
            " 'city': 'Delhi',\n",
            " 'name': 'jim',\n",
            " 'ph_no': 8949991172}\n"
          ]
        }
      ],
      "source": [
        "#print collection after deletion\n",
        "for x in dirs:\n",
        "    pprint.pprint(x)"
      ]
    },
    {
      "cell_type": "code",
      "execution_count": null,
      "id": "1af11aa7",
      "metadata": {
        "id": "1af11aa7"
      },
      "outputs": [],
      "source": [
        "#drop the collection \n",
        "#contacts.drop()"
      ]
    },
    {
      "cell_type": "code",
      "execution_count": null,
      "id": "bc4ba6a8",
      "metadata": {
        "id": "bc4ba6a8"
      },
      "outputs": [],
      "source": []
    }
  ],
  "metadata": {
    "kernelspec": {
      "display_name": "Python 3 (ipykernel)",
      "language": "python",
      "name": "python3"
    },
    "language_info": {
      "codemirror_mode": {
        "name": "ipython",
        "version": 3
      },
      "file_extension": ".py",
      "mimetype": "text/x-python",
      "name": "python",
      "nbconvert_exporter": "python",
      "pygments_lexer": "ipython3",
      "version": "3.10.6"
    },
    "colab": {
      "provenance": [],
      "include_colab_link": true
    }
  },
  "nbformat": 4,
  "nbformat_minor": 5
}